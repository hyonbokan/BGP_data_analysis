{
 "cells": [
  {
   "cell_type": "markdown",
   "metadata": {},
   "source": [
    "Make BGP-LLaMa and Mobile LLaMa web services.\n",
    "\n",
    "With the web service, develop the real user cases for the network\n",
    "operation and administrators.\n",
    "For example, I think the real-time monitoring function and the\n",
    "generation report in the natural language.\n",
    "- IP prefix comparison from different regional bgp sources\n",
    "- Specific AS report: AS18298 (CNU) BGP report for last 5 minutes\n",
    "- Hourly/daily BGP monitoring summarization/report with plots\n",
    "  * We can directly use 5-minute near real-time data of  bgp routing\n",
    "tables and update messages.\n",
    "- BGP anomaly detection reports"
   ]
  },
  {
   "cell_type": "code",
   "execution_count": null,
   "metadata": {},
   "outputs": [],
   "source": [
    "import pybgpstream\n",
    "stream = pybgpstream.BGPStream(\n",
    "    # accessing ris-live\n",
    "    project=\"ris-live\",\n",
    "    # filter to show only stream from rrc00\n",
    "    filter=\"collector rrc00\",\n",
    ")\n",
    "\n",
    "for elem in stream:\n",
    "    print(elem)"
   ]
  },
  {
   "cell_type": "code",
   "execution_count": null,
   "metadata": {},
   "outputs": [],
   "source": [
    "import pybgpstream\n",
    "stream = pybgpstream.BGPStream(\n",
    "    # accessing routeview-stream\n",
    "    project=\"routeviews-stream\",\n",
    "    # filter to show only stream from amsix bmp stream\n",
    "    filter=\"router amsix\",\n",
    ")\n",
    "\n",
    "for elem in stream:\n",
    "    print(elem)"
   ]
  },
  {
   "cell_type": "code",
   "execution_count": null,
   "metadata": {},
   "outputs": [],
   "source": [
    "import pybgpstream\n",
    "\n",
    "# Create a BGPStream instance\n",
    "stream = pybgpstream.BGPStream(\n",
    "    # Specify data source, e.g., 'routeviews', 'ris'\n",
    "    project=\"ris\",\n",
    "    # Use 'record_type' as 'updates' to get real-time BGP update messages\n",
    "    record_type=\"updates\",\n",
    "    # Optionally filter data (e.g., by specific prefix, ASN, etc.)\n",
    "    # filter=\"prefix 1.1.1.0/24\"\n",
    ")\n",
    "\n",
    "# Start the live stream\n",
    "for rec in stream.records():\n",
    "    # Process each record\n",
    "    print(f\"Time: {rec.time}\")\n",
    "    for elem in rec:\n",
    "        # Print out details of each BGP element\n",
    "        print(f\"Peer ASN: {elem.peer_asn}, Peer IP: {elem.peer_address}, Type: {elem.type}\")\n",
    "        if elem.type in ('A', 'W'):  # Announcements and Withdrawals\n",
    "            print(f\"Prefix: {elem.fields['prefix']}, AS Path: {elem.fields.get('as-path', 'N/A')}\")\n",
    "        print(\"-\" * 40)"
   ]
  }
 ],
 "metadata": {
  "kernelspec": {
   "display_name": "Python 3",
   "language": "python",
   "name": "python3"
  },
  "language_info": {
   "codemirror_mode": {
    "name": "ipython",
    "version": 3
   },
   "file_extension": ".py",
   "mimetype": "text/x-python",
   "name": "python",
   "nbconvert_exporter": "python",
   "pygments_lexer": "ipython3",
   "version": "3.9.13"
  },
  "orig_nbformat": 4
 },
 "nbformat": 4,
 "nbformat_minor": 2
}
