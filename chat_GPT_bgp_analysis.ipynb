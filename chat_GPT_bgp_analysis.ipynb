{
 "cells": [
  {
   "attachments": {},
   "cell_type": "markdown",
   "metadata": {},
   "source": [
    "Write a python script that extracts withdraw messages of AS18298 in Jan 2003 "
   ]
  },
  {
   "cell_type": "code",
   "execution_count": 8,
   "metadata": {},
   "outputs": [
    {
     "ename": "TypeError",
     "evalue": "__init__() got an unexpected keyword argument 'file'",
     "output_type": "error",
     "traceback": [
      "\u001b[0;31m---------------------------------------------------------------------------\u001b[0m",
      "\u001b[0;31mTypeError\u001b[0m                                 Traceback (most recent call last)",
      "\u001b[0;32m/tmp/ipykernel_301944/1299352679.py\u001b[0m in \u001b[0;36m<module>\u001b[0;34m\u001b[0m\n\u001b[1;32m      6\u001b[0m \u001b[0;34m\u001b[0m\u001b[0m\n\u001b[1;32m      7\u001b[0m \u001b[0;31m# Initialize BGPStream with the desired time range and AS number filter\u001b[0m\u001b[0;34m\u001b[0m\u001b[0;34m\u001b[0m\u001b[0m\n\u001b[0;32m----> 8\u001b[0;31m stream = pybgpstream.BGPStream(\n\u001b[0m\u001b[1;32m      9\u001b[0m     \u001b[0mfrom_time\u001b[0m\u001b[0;34m=\u001b[0m\u001b[0mstart_time\u001b[0m\u001b[0;34m,\u001b[0m\u001b[0;34m\u001b[0m\u001b[0;34m\u001b[0m\u001b[0m\n\u001b[1;32m     10\u001b[0m     \u001b[0muntil_time\u001b[0m\u001b[0;34m=\u001b[0m\u001b[0mend_time\u001b[0m\u001b[0;34m,\u001b[0m\u001b[0;34m\u001b[0m\u001b[0;34m\u001b[0m\u001b[0m\n",
      "\u001b[0;31mTypeError\u001b[0m: __init__() got an unexpected keyword argument 'file'"
     ]
    }
   ],
   "source": [
    "import pybgpstream\n",
    "\n",
    "# Set the desired time range for January 2003\n",
    "start_time = \"2003-01-01\"\n",
    "end_time = \"2003-01-31\"\n",
    "\n",
    "# Initialize BGPStream with the desired time range and AS number filter\n",
    "stream = pybgpstream.BGPStream(\n",
    "    from_time=start_time,\n",
    "    until_time=end_time,\n",
    "    data_interface=\"singlefile\",\n",
    "    file=\"as18298_bgp_data.mrt\"\n",
    ")\n",
    "\n",
    "# Process BGP MRT data for AS18298 withdraw messages in January 2003\n",
    "for elem in stream:\n",
    "    if (\n",
    "        elem.status == \"valid\"\n",
    "        and elem.type == \"update\"\n",
    "        and elem.peer_asn == 18298\n",
    "        and len(elem.fields[\"withdrawn_routes\"]) > 0\n",
    "    ):\n",
    "        withdrawn_prefixes = elem.fields[\"withdrawn_routes\"]\n",
    "        for prefix in withdrawn_prefixes:\n",
    "            print(\"Withdrawn prefix for AS18298:\", prefix)\n"
   ]
  },
  {
   "cell_type": "code",
   "execution_count": 7,
   "metadata": {},
   "outputs": [
    {
     "ename": "TypeError",
     "evalue": "__init__() got an unexpected keyword argument 'file'",
     "output_type": "error",
     "traceback": [
      "\u001b[0;31m---------------------------------------------------------------------------\u001b[0m",
      "\u001b[0;31mTypeError\u001b[0m                                 Traceback (most recent call last)",
      "\u001b[0;32m/tmp/ipykernel_301944/2520894608.py\u001b[0m in \u001b[0;36m<module>\u001b[0;34m\u001b[0m\n\u001b[1;32m      4\u001b[0m \u001b[0;31m# Initialize BGPStream with the MRT file for AS18298\u001b[0m\u001b[0;34m\u001b[0m\u001b[0;34m\u001b[0m\u001b[0m\n\u001b[1;32m      5\u001b[0m \u001b[0;34m\u001b[0m\u001b[0m\n\u001b[0;32m----> 6\u001b[0;31m stream = pybgpstream.BGPStream(record_type='updates',\n\u001b[0m\u001b[1;32m      7\u001b[0m data_interface='singlefile', file='as18298_bgp_data.mrt')\n\u001b[1;32m      8\u001b[0m \u001b[0;34m\u001b[0m\u001b[0m\n",
      "\u001b[0;31mTypeError\u001b[0m: __init__() got an unexpected keyword argument 'file'"
     ]
    }
   ],
   "source": [
    "import pybgpstream\n",
    "\n",
    "\n",
    "# Initialize BGPStream with the MRT file for AS18298\n",
    "\n",
    "stream = pybgpstream.BGPStream(record_type='updates',\n",
    "data_interface='singlefile', file='as18298_bgp_data.mrt')\n",
    "\n",
    "\n",
    "# Initialize counters for anomaly detection\n",
    "\n",
    "route_flap_count = 0\n",
    "\n",
    "as_path_change_count = 0\n",
    "\n",
    "unexpected_next_hop_count = 0\n",
    "\n",
    "\n",
    "# Process BGP MRT data for AS18298\n",
    "\n",
    "for elem in stream:\n",
    "\n",
    "    if elem.status == 'valid' and elem.type == 'update' and elem.peer_asn == 18298:\n",
    "\n",
    "        # Check for route flaps (rapid route changes)\n",
    "\n",
    "        if len(elem.fields['prefix']) > 0 and len(elem.fields['withdrawn_routes']) > 0:\n",
    "\n",
    "            route_flap_count += 1\n",
    "\n",
    "            print(\"Route flap detected for AS18298:\", elem.fields['prefix'])\n",
    "\n",
    "\n",
    "        # Check for AS path changes\n",
    "\n",
    "        if 'as-path' in elem.fields:\n",
    "\n",
    "            old_as_path = elem.fields['as-path']['old']\n",
    "\n",
    "            new_as_path = elem.fields['as-path']['new']\n",
    "\n",
    "            if old_as_path != new_as_path:\n",
    "\n",
    "                as_path_change_count += 1\n",
    "\n",
    "                print(\"AS path change detected for AS18298:\", elem.fields['prefix'])\n",
    "\n",
    "\n",
    "        # Check for unexpected next hop changes\n",
    "\n",
    "        if 'next-hop' in elem.fields:\n",
    "\n",
    "            old_next_hop = elem.fields['next-hop']['old']\n",
    "\n",
    "            new_next_hop = elem.fields['next-hop']['new']\n",
    "\n",
    "            if old_next_hop != new_next_hop:\n",
    "\n",
    "                unexpected_next_hop_count += 1\n",
    "\n",
    "                print(\"Unexpected next hop change detected for AS18298:\", elem.fields['prefix'])\n",
    "\n",
    "\n",
    "# Print the summary of detected anomalies for AS18298\n",
    "\n",
    "print(\"Anomaly Detection Summary for AS18298:\")\n",
    "\n",
    "print(\"Route Flaps:\", route_flap_count)\n",
    "\n",
    "print(\"AS Path Changes:\", as_path_change_count)\n",
    "\n",
    "print(\"Unexpected Next Hop Changes:\", unexpected_next_hop_count)"
   ]
  },
  {
   "attachments": {},
   "cell_type": "markdown",
   "metadata": {},
   "source": [
    "Write a python script that imports pybpgstream and withdraws update messages of Jan 2022.\n",
    "`Parse` the mrt data and `extract` all the relevant information. The information should include `routeviews`, `route-views2`, `the IP address` of the router that originated `the BGP update message`, `the prefix` that is being announced in the BGP update message, `the next hop IP address` for the announced prefix, the `AS path` for the announced prefix, the `BGP communities` associated with the announced prefix, `the origin of the BGP` update message, `BGP MED`, `the peer that sent` the BGP update message, the `peer that received` the BGP update message. \n",
    "\n",
    "Lastly, save them in a `csv file`."
   ]
  },
  {
   "cell_type": "code",
   "execution_count": 1,
   "metadata": {},
   "outputs": [
    {
     "name": "stderr",
     "output_type": "stream",
     "text": [
      "1690950696 HTTP ERROR: Failure when receiving data from the peer (56)\n",
      "1690951006 HTTP ERROR: Failure when receiving data from the peer (56)\n",
      "1690951011 HTTP ERROR: Server returned nothing (no headers, no data) (52)\n",
      "2023-08-02 13:36:51 301944: bs_transport_file.c:39: ERROR: Could not open http://archive.routeviews.org/route-views.linx/bgpdata/2022.01/UPDATES/updates.20220101.1415.bz2 for reading\n",
      "2023-08-02 13:36:51 301944: bgpstream_transport.c:97: ERROR: Could not open resource (http://archive.routeviews.org/route-views.linx/bgpdata/2022.01/UPDATES/updates.20220101.1415.bz2)\n",
      "2023-08-02 13:36:51 301944: bgpstream_reader.c:169: WARNING: Could not open (http://archive.routeviews.org/route-views.linx/bgpdata/2022.01/UPDATES/updates.20220101.1415.bz2). Attempt 1 of 5\n",
      "1690951012 HTTP ERROR: Transferred a partial file (18)\n",
      "1690951012 HTTP ERROR: Transferred a partial file (18)\n",
      "1690951012 HTTP ERROR: Transferred a partial file (18)\n",
      "1690951012 HTTP ERROR: Transferred a partial file (18)\n",
      "1690951012 HTTP ERROR: Transferred a partial file (18)\n",
      "1690951012 HTTP ERROR: Transferred a partial file (18)\n",
      "1690951023 HTTP ERROR: Failure when receiving data from the peer (56)\n",
      "1690951090 HTTP ERROR: Failure when receiving data from the peer (56)\n"
     ]
    },
    {
     "ename": "KeyboardInterrupt",
     "evalue": "",
     "output_type": "error",
     "traceback": [
      "\u001b[0;31m---------------------------------------------------------------------------\u001b[0m",
      "\u001b[0;31mKeyboardInterrupt\u001b[0m                         Traceback (most recent call last)",
      "\u001b[0;32m/tmp/ipykernel_301944/75497681.py\u001b[0m in \u001b[0;36m<module>\u001b[0;34m\u001b[0m\n\u001b[1;32m     23\u001b[0m \u001b[0;34m\u001b[0m\u001b[0m\n\u001b[1;32m     24\u001b[0m     \u001b[0;31m# Process BGP data and save to CSV\u001b[0m\u001b[0;34m\u001b[0m\u001b[0;34m\u001b[0m\u001b[0m\n\u001b[0;32m---> 25\u001b[0;31m     \u001b[0;32mfor\u001b[0m \u001b[0melem\u001b[0m \u001b[0;32min\u001b[0m \u001b[0mstream\u001b[0m\u001b[0;34m:\u001b[0m\u001b[0;34m\u001b[0m\u001b[0;34m\u001b[0m\u001b[0m\n\u001b[0m\u001b[1;32m     26\u001b[0m         \u001b[0;32mif\u001b[0m \u001b[0melem\u001b[0m\u001b[0;34m.\u001b[0m\u001b[0mstatus\u001b[0m \u001b[0;34m==\u001b[0m \u001b[0;34m'valid'\u001b[0m \u001b[0;32mand\u001b[0m \u001b[0melem\u001b[0m\u001b[0;34m.\u001b[0m\u001b[0mtype\u001b[0m \u001b[0;34m==\u001b[0m \u001b[0;34m'update'\u001b[0m\u001b[0;34m:\u001b[0m\u001b[0;34m\u001b[0m\u001b[0;34m\u001b[0m\u001b[0m\n\u001b[1;32m     27\u001b[0m             \u001b[0;31m# Extract relevant fields\u001b[0m\u001b[0;34m\u001b[0m\u001b[0;34m\u001b[0m\u001b[0m\n",
      "\u001b[0;32m~/.local/lib/python3.9/site-packages/pybgpstream-2.0.2-py3.9-linux-x86_64.egg/pybgpstream/pybgpstream.py\u001b[0m in \u001b[0;36m__iter__\u001b[0;34m(self)\u001b[0m\n\u001b[1;32m     73\u001b[0m \u001b[0;34m\u001b[0m\u001b[0m\n\u001b[1;32m     74\u001b[0m     \u001b[0;32mdef\u001b[0m \u001b[0m__iter__\u001b[0m\u001b[0;34m(\u001b[0m\u001b[0mself\u001b[0m\u001b[0;34m)\u001b[0m\u001b[0;34m:\u001b[0m\u001b[0;34m\u001b[0m\u001b[0;34m\u001b[0m\u001b[0m\n\u001b[0;32m---> 75\u001b[0;31m         \u001b[0;32mfor\u001b[0m \u001b[0m_rec\u001b[0m \u001b[0;32min\u001b[0m \u001b[0mself\u001b[0m\u001b[0;34m.\u001b[0m\u001b[0mrecords\u001b[0m\u001b[0;34m(\u001b[0m\u001b[0;34m)\u001b[0m\u001b[0;34m:\u001b[0m\u001b[0;34m\u001b[0m\u001b[0;34m\u001b[0m\u001b[0m\n\u001b[0m\u001b[1;32m     76\u001b[0m             \u001b[0;32mfor\u001b[0m \u001b[0m_elem\u001b[0m \u001b[0;32min\u001b[0m \u001b[0m_rec\u001b[0m\u001b[0;34m:\u001b[0m\u001b[0;34m\u001b[0m\u001b[0;34m\u001b[0m\u001b[0m\n\u001b[1;32m     77\u001b[0m                 \u001b[0;32myield\u001b[0m \u001b[0m_elem\u001b[0m\u001b[0;34m\u001b[0m\u001b[0;34m\u001b[0m\u001b[0m\n",
      "\u001b[0;32m~/.local/lib/python3.9/site-packages/pybgpstream-2.0.2-py3.9-linux-x86_64.egg/pybgpstream/pybgpstream.py\u001b[0m in \u001b[0;36mrecords\u001b[0;34m(self)\u001b[0m\n\u001b[1;32m     85\u001b[0m             \u001b[0mself\u001b[0m\u001b[0;34m.\u001b[0m\u001b[0mstarted\u001b[0m \u001b[0;34m=\u001b[0m \u001b[0;32mTrue\u001b[0m\u001b[0;34m\u001b[0m\u001b[0;34m\u001b[0m\u001b[0m\n\u001b[1;32m     86\u001b[0m         \u001b[0;32mwhile\u001b[0m \u001b[0;32mTrue\u001b[0m\u001b[0;34m:\u001b[0m\u001b[0;34m\u001b[0m\u001b[0;34m\u001b[0m\u001b[0m\n\u001b[0;32m---> 87\u001b[0;31m             \u001b[0m_rec\u001b[0m \u001b[0;34m=\u001b[0m \u001b[0mself\u001b[0m\u001b[0;34m.\u001b[0m\u001b[0mstream\u001b[0m\u001b[0;34m.\u001b[0m\u001b[0mget_next_record\u001b[0m\u001b[0;34m(\u001b[0m\u001b[0;34m)\u001b[0m\u001b[0;34m\u001b[0m\u001b[0;34m\u001b[0m\u001b[0m\n\u001b[0m\u001b[1;32m     88\u001b[0m             \u001b[0;32mif\u001b[0m \u001b[0m_rec\u001b[0m \u001b[0;32mis\u001b[0m \u001b[0;32mNone\u001b[0m\u001b[0;34m:\u001b[0m\u001b[0;34m\u001b[0m\u001b[0;34m\u001b[0m\u001b[0m\n\u001b[1;32m     89\u001b[0m                 \u001b[0;32mreturn\u001b[0m\u001b[0;34m\u001b[0m\u001b[0;34m\u001b[0m\u001b[0m\n",
      "\u001b[0;31mKeyboardInterrupt\u001b[0m: "
     ]
    }
   ],
   "source": [
    "import pybgpstream\n",
    "import csv\n",
    "\n",
    "# Initialize BGPStream\n",
    "stream = pybgpstream.BGPStream()\n",
    "\n",
    "# Specify the desired time range for January 2022\n",
    "start_time = 1641045600  # January 1, 2022\n",
    "end_time = 1643723999  # January 31, 2022\n",
    "\n",
    "# Set filters and time range\n",
    "stream.add_interval_filter(start_time, end_time)  # Set your desired time range\n",
    "stream.add_filter('prefix', '93.175.147.0/24') # Set your desired prefix filter\n",
    "\n",
    "# Create a CSV file for saving the extracted data\n",
    "csv_filename = 'bgp_data.csv'\n",
    "with open(csv_filename, 'w', newline='') as csvfile:\n",
    "    fieldnames = ['Timestamp', 'Router_IP', 'Prefix', 'Next_Hop', 'AS_Path', 'Communities', 'Origin_AS', 'BGP_MED', 'Peer_Sender', 'Peer_Receiver']\n",
    "    writer = csv.DictWriter(csvfile, fieldnames=fieldnames)\n",
    "    \n",
    "    # Write the CSV header\n",
    "    writer.writeheader()\n",
    "    \n",
    "    # Process BGP data and save to CSV\n",
    "    for elem in stream:\n",
    "        if elem.status == 'valid' and elem.type == 'update':\n",
    "            # Extract relevant fields\n",
    "            timestamp = elem.time\n",
    "            router_ip = elem.peer_address\n",
    "            prefix = elem.fields['prefix']\n",
    "            next_hop = elem.fields['next-hop']['new']\n",
    "            as_path = ' '.join(elem.fields['as-path'].split())\n",
    "            communities = ' '.join(elem.fields['communities'].split())\n",
    "            origin_as = elem.fields['peer-asn']\n",
    "            bgp_med = elem.fields.get('med', 'N/A')\n",
    "            peer_sender = elem.peer_address\n",
    "            peer_receiver = elem.peer_address_peer\n",
    "            \n",
    "            # Write the data to the CSV file\n",
    "            writer.writerow({'Timestamp': timestamp, 'Router_IP': router_ip, 'Prefix': prefix, 'Next_Hop': next_hop,\n",
    "                             'AS_Path': as_path, 'Communities': communities, 'Origin_AS': origin_as, 'BGP_MED': bgp_med,\n",
    "                             'Peer_Sender': peer_sender, 'Peer_Receiver': peer_receiver})\n",
    "\n",
    "print(\"CSV file saved:\", csv_filename)\n"
   ]
  },
  {
   "cell_type": "code",
   "execution_count": 13,
   "metadata": {},
   "outputs": [],
   "source": [
    "import pybgpstream\n",
    "\n",
    "bgp2go_meta = 'http://nids.caida.org:45000/cgi-bin/urls.sh'\n",
    "bgp2go_meta += '?years=2012&months=1&collectors=1'\n",
    "\n",
    "stream = pybgpstream.BGPStream(data_interface=\"csvfile\")\n",
    "stream.set_data_interface_option(\"csvfile\", \"csv-file\", bgp2go_meta)\n",
    "\n",
    "# Define the output file path\n",
    "output_file_path = \"bgp_data_Jan_2012.txt\"\n",
    "\n",
    "# Open the output file for writing\n",
    "with open(output_file_path, mode=\"w\") as output_file:\n",
    "    for elem in stream:\n",
    "        output_file.write(str(elem) + '\\n')\n",
    "\n",
    "print(\"Output saved:\", output_file_path)\n"
   ]
  },
  {
   "cell_type": "code",
   "execution_count": null,
   "metadata": {},
   "outputs": [],
   "source": []
  }
 ],
 "metadata": {
  "kernelspec": {
   "display_name": "base",
   "language": "python",
   "name": "python3"
  },
  "language_info": {
   "codemirror_mode": {
    "name": "ipython",
    "version": 3
   },
   "file_extension": ".py",
   "mimetype": "text/x-python",
   "name": "python",
   "nbconvert_exporter": "python",
   "pygments_lexer": "ipython3",
   "version": "3.9.13"
  },
  "orig_nbformat": 4
 },
 "nbformat": 4,
 "nbformat_minor": 2
}
